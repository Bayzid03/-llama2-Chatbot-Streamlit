{
  "nbformat": 4,
  "nbformat_minor": 0,
  "metadata": {
    "colab": {
      "provenance": [],
      "authorship_tag": "ABX9TyMgGiAAn6KMqtIIvYKD4l1J",
      "include_colab_link": true
    },
    "kernelspec": {
      "name": "python3",
      "display_name": "Python 3"
    },
    "language_info": {
      "name": "python"
    }
  },
  "cells": [
    {
      "cell_type": "markdown",
      "metadata": {
        "id": "view-in-github",
        "colab_type": "text"
      },
      "source": [
        "<a href=\"https://colab.research.google.com/github/Bayzid03/-llama2-Chatbot-Streamlit/blob/main/SayMyName.ipynb\" target=\"_parent\"><img src=\"https://colab.research.google.com/assets/colab-badge.svg\" alt=\"Open In Colab\"/></a>"
      ]
    },
    {
      "cell_type": "markdown",
      "source": [
        "For building synthetic medical records using GANs, we’ll break it down into the following steps:\n",
        "\n",
        "**Data Preprocessing**\n",
        "\n",
        "**GAN Architecture**\n",
        "\n",
        "**Training Loop**\n",
        "\n",
        "**Evaluating Model Performance**\n",
        "\n",
        "**Generating Synthetic Medical Records**"
      ],
      "metadata": {
        "id": "kl48sFDJi0t0"
      }
    },
    {
      "cell_type": "code",
      "execution_count": 1,
      "metadata": {
        "colab": {
          "base_uri": "https://localhost:8080/"
        },
        "id": "yIleCSX_g9oW",
        "outputId": "e352720e-2ed1-4e19-b14b-c1d3cd9d147f"
      },
      "outputs": [
        {
          "output_type": "stream",
          "name": "stdout",
          "text": [
            "   patient_id  visit_date  age_years  weight_kg   bmi  systolic_bp_mmHg  \\\n",
            "0  P-2025-001  2024-02-15         52       83.7  28.3               138   \n",
            "1  P-2025-001  2024-03-15         52       83.4  28.2               147   \n",
            "2  P-2025-001  2024-04-15         52       83.1  28.1               140   \n",
            "3  P-2025-001  2024-05-15         52       83.0  28.1               136   \n",
            "4  P-2025-001  2024-06-15         52       82.6  27.9               133   \n",
            "\n",
            "   diastolic_bp_mmHg  heart_rate_bpm  body_temp_C  fasting_glucose_mg_dL  ...  \\\n",
            "0                 86              80         36.8                    137  ...   \n",
            "1                 89              80         37.0                    140  ...   \n",
            "2                 84              76         36.8                    122  ...   \n",
            "3                 88              77         36.8                    112  ...   \n",
            "4                 88              78         36.8                    101  ...   \n",
            "\n",
            "   diet_quality_score_0_100  sleep_hours  exercise_sessions_per_week  \\\n",
            "0                        62          6.6                           3   \n",
            "1                        61          6.8                           2   \n",
            "2                        65          7.0                           3   \n",
            "3                        66          7.8                           1   \n",
            "4                        54          7.0                           2   \n",
            "\n",
            "   alcohol_units_per_week  smoking_cigs_per_day  \\\n",
            "0                       0                     0   \n",
            "1                       1                     0   \n",
            "2                       3                     0   \n",
            "3                       0                     0   \n",
            "4                       3                     0   \n",
            "\n",
            "                                      clinical_notes  neuropathy  retinopathy  \\\n",
            "0  Baseline visit: poor glycemic control; lifesty...           0            0   \n",
            "1                                 Routine follow-up.           0            0   \n",
            "2  Reports tingling in feet at night; B12 checked...           0            0   \n",
            "3                                 Routine follow-up.           0            0   \n",
            "4  SGLT2 inhibitor added due to persistent hyperg...           0            0   \n",
            "\n",
            "   hypoglycemia  uti  \n",
            "0             0    0  \n",
            "1             0    0  \n",
            "2             0    1  \n",
            "3             0    0  \n",
            "4             0    0  \n",
            "\n",
            "[5 rows x 34 columns]\n"
          ]
        }
      ],
      "source": [
        "import pandas as pd\n",
        "\n",
        "df = pd.read_csv(\"/Follow-up_Records.csv\")\n",
        "\n",
        "print(df.head())"
      ]
    },
    {
      "cell_type": "code",
      "source": [],
      "metadata": {
        "id": "aA1uGhrxiX6G"
      },
      "execution_count": null,
      "outputs": []
    },
    {
      "cell_type": "code",
      "source": [],
      "metadata": {
        "id": "imJYY_FaiXtE"
      },
      "execution_count": null,
      "outputs": []
    }
  ]
}